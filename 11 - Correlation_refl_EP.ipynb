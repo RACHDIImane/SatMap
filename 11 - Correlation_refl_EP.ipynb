{
 "cells": [
  {
   "cell_type": "markdown",
   "id": "ffaf76d3-46f6-4801-abed-47ba0c7872e6",
   "metadata": {},
   "source": [
    "# Correletion Analysis"
   ]
  },
  {
   "cell_type": "code",
   "execution_count": 1,
   "id": "01ea2ddd-8d19-4ad3-abba-437d4a3cce57",
   "metadata": {},
   "outputs": [],
   "source": [
    "#Import the necessary libraries:\n",
    "import hylite\n",
    "from hylite import io\n",
    "import numpy as np\n",
    "import matplotlib.pyplot as plt"
   ]
  },
  {
   "cell_type": "code",
   "execution_count": 2,
   "id": "3c207582-4ce1-40e4-a60c-11b8960a1d1b",
   "metadata": {},
   "outputs": [],
   "source": [
    "from sklearn.cross_decomposition import PLSRegression"
   ]
  },
  {
   "cell_type": "code",
   "execution_count": 3,
   "id": "7f77bd2e-cf05-40b0-a324-ea64c9f94ccb",
   "metadata": {},
   "outputs": [],
   "source": [
    "from sklearn.linear_model import LinearRegression\n",
    "from scipy.stats import spearmanr"
   ]
  },
  {
   "cell_type": "code",
   "execution_count": 4,
   "id": "47f34d22-4eaa-4a48-aebf-35d2a048abf2",
   "metadata": {},
   "outputs": [],
   "source": [
    "from sklearn.metrics import r2_score, mean_squared_error "
   ]
  },
  {
   "cell_type": "code",
   "execution_count": 5,
   "id": "3aa48550-b871-433c-8a6a-f6417cc568b8",
   "metadata": {},
   "outputs": [],
   "source": [
    "%matplotlib inline"
   ]
  },
  {
   "cell_type": "markdown",
   "id": "24d2a744-ad5f-46c5-aa15-60a762b598a5",
   "metadata": {},
   "source": [
    "The first part of the correlation analysis involved comparing the absorption wavelengths of calcite across the four sensors."
   ]
  },
  {
   "cell_type": "code",
   "execution_count": 6,
   "id": "80cae4a0-ad18-4999-b558-21eef1499a91",
   "metadata": {},
   "outputs": [],
   "source": [
    "# Load Datasets\n",
    "Hymap = io.load( '/Users/rachdi18/Documents/Namibia_Epembe/final_subsets/final/hymap_final_sub.hdr' )\n",
    "Enmap = io.load( '/Users/rachdi18/Documents/Namibia_Epembe/final_subsets/final/enmap_final_sub.hdr' )\n",
    "Prisma=io.load('/Users/rachdi18/Documents/Namibia_Epembe/final_subsets/final/prisma_final_sub.hdr')\n",
    "EMIT=io.load('/Users/rachdi18/Documents/Namibia_Epembe/final_subsets/final/emit_final_sub.hdr')"
   ]
  },
  {
   "cell_type": "code",
   "execution_count": 7,
   "id": "688fd56f-db3d-440e-8c36-ccd2dc544db6",
   "metadata": {},
   "outputs": [],
   "source": [
    "#Data normalisation\n",
    "Enmap.data = Enmap.data.astype(np.float32) / np.nanmax(Enmap.data)\n",
    "Hymap.data = Hymap.data.astype(np.float32) / np.nanmax(Hymap.data)\n",
    "Prisma.data = Prisma.data.astype(np.float32) / np.nanmax(Prisma.data)"
   ]
  },
  {
   "cell_type": "code",
   "execution_count": 8,
   "id": "295b6a9a-3dda-4f90-b5bd-c24298cde29a",
   "metadata": {},
   "outputs": [],
   "source": [
    "#deleting NaN bands\n",
    "Enmap.data[ Enmap.data <= 0. ] = np.nan\n",
    "Enmap.delete_nan_bands\n",
    "Enmap.data = Enmap.data.astype(np.float32)\n",
    "Enmap.fill_holes()\n",
    "\n",
    "Hymap.data[ Hymap.data <= 0. ] = np.nan\n",
    "Hymap.delete_nan_bands\n",
    "Hymap.data = Hymap.data.astype(np.float32)\n",
    "Hymap.fill_holes()\n",
    "\n",
    "Prisma.data[ Prisma.data <= 0. ] = np.nan\n",
    "Prisma.delete_nan_bands\n",
    "Prisma.data = Prisma.data.astype(np.float32)\n",
    "Prisma.fill_holes()\n",
    "\n",
    "EMIT.data[ EMIT.data <= 0. ] = np.nan\n",
    "EMIT.delete_nan_bands\n",
    "EMIT.data = EMIT.data.astype(np.float32)\n",
    "EMIT.fill_holes()"
   ]
  },
  {
   "cell_type": "markdown",
   "id": "40a0373d-6639-4fbe-92b6-542d1135d902",
   "metadata": {},
   "source": [
    "To ensure uniformity in the datasets before proceeding with the correlation analysis, spatial resampling may be necessary."
   ]
  },
  {
   "cell_type": "code",
   "execution_count": 9,
   "id": "08873e1e-ad5b-4f05-9fdc-5a6494c39634",
   "metadata": {},
   "outputs": [
    {
     "data": {
      "text/plain": [
       "(552, 206, 230)"
      ]
     },
     "execution_count": 9,
     "metadata": {},
     "output_type": "execute_result"
    }
   ],
   "source": [
    "Prisma.data.shape"
   ]
  },
  {
   "cell_type": "code",
   "execution_count": 10,
   "id": "35c3afdb-552e-4535-b429-a1a11fc8dc8b",
   "metadata": {},
   "outputs": [
    {
     "data": {
      "text/plain": [
       "(552, 206, 217)"
      ]
     },
     "execution_count": 10,
     "metadata": {},
     "output_type": "execute_result"
    }
   ],
   "source": [
    "Enmap.data.shape"
   ]
  },
  {
   "cell_type": "code",
   "execution_count": 11,
   "id": "eff4a760-684c-4582-a50d-55743e32a12e",
   "metadata": {},
   "outputs": [
    {
     "name": "stdout",
     "output_type": "stream",
     "text": [
      "(113712, 1)\n",
      "(113712, 1)\n"
     ]
    }
   ],
   "source": [
    "# Selecting the specific band wich represents the absorption wavelengths of calcite \n",
    "x=Enmap.data[:,:,204].flatten()[:,None]\n",
    "y=Prisma.data[:,:,212].flatten()[:,None]\n",
    "print(x.shape)\n",
    "print(y.shape)"
   ]
  },
  {
   "cell_type": "code",
   "execution_count": 12,
   "id": "6417abb7-6c36-413d-92ba-95a6a85638ed",
   "metadata": {},
   "outputs": [
    {
     "data": {
      "text/html": [
       "<style>#sk-container-id-1 {color: black;}#sk-container-id-1 pre{padding: 0;}#sk-container-id-1 div.sk-toggleable {background-color: white;}#sk-container-id-1 label.sk-toggleable__label {cursor: pointer;display: block;width: 100%;margin-bottom: 0;padding: 0.3em;box-sizing: border-box;text-align: center;}#sk-container-id-1 label.sk-toggleable__label-arrow:before {content: \"▸\";float: left;margin-right: 0.25em;color: #696969;}#sk-container-id-1 label.sk-toggleable__label-arrow:hover:before {color: black;}#sk-container-id-1 div.sk-estimator:hover label.sk-toggleable__label-arrow:before {color: black;}#sk-container-id-1 div.sk-toggleable__content {max-height: 0;max-width: 0;overflow: hidden;text-align: left;background-color: #f0f8ff;}#sk-container-id-1 div.sk-toggleable__content pre {margin: 0.2em;color: black;border-radius: 0.25em;background-color: #f0f8ff;}#sk-container-id-1 input.sk-toggleable__control:checked~div.sk-toggleable__content {max-height: 200px;max-width: 100%;overflow: auto;}#sk-container-id-1 input.sk-toggleable__control:checked~label.sk-toggleable__label-arrow:before {content: \"▾\";}#sk-container-id-1 div.sk-estimator input.sk-toggleable__control:checked~label.sk-toggleable__label {background-color: #d4ebff;}#sk-container-id-1 div.sk-label input.sk-toggleable__control:checked~label.sk-toggleable__label {background-color: #d4ebff;}#sk-container-id-1 input.sk-hidden--visually {border: 0;clip: rect(1px 1px 1px 1px);clip: rect(1px, 1px, 1px, 1px);height: 1px;margin: -1px;overflow: hidden;padding: 0;position: absolute;width: 1px;}#sk-container-id-1 div.sk-estimator {font-family: monospace;background-color: #f0f8ff;border: 1px dotted black;border-radius: 0.25em;box-sizing: border-box;margin-bottom: 0.5em;}#sk-container-id-1 div.sk-estimator:hover {background-color: #d4ebff;}#sk-container-id-1 div.sk-parallel-item::after {content: \"\";width: 100%;border-bottom: 1px solid gray;flex-grow: 1;}#sk-container-id-1 div.sk-label:hover label.sk-toggleable__label {background-color: #d4ebff;}#sk-container-id-1 div.sk-serial::before {content: \"\";position: absolute;border-left: 1px solid gray;box-sizing: border-box;top: 0;bottom: 0;left: 50%;z-index: 0;}#sk-container-id-1 div.sk-serial {display: flex;flex-direction: column;align-items: center;background-color: white;padding-right: 0.2em;padding-left: 0.2em;position: relative;}#sk-container-id-1 div.sk-item {position: relative;z-index: 1;}#sk-container-id-1 div.sk-parallel {display: flex;align-items: stretch;justify-content: center;background-color: white;position: relative;}#sk-container-id-1 div.sk-item::before, #sk-container-id-1 div.sk-parallel-item::before {content: \"\";position: absolute;border-left: 1px solid gray;box-sizing: border-box;top: 0;bottom: 0;left: 50%;z-index: -1;}#sk-container-id-1 div.sk-parallel-item {display: flex;flex-direction: column;z-index: 1;position: relative;background-color: white;}#sk-container-id-1 div.sk-parallel-item:first-child::after {align-self: flex-end;width: 50%;}#sk-container-id-1 div.sk-parallel-item:last-child::after {align-self: flex-start;width: 50%;}#sk-container-id-1 div.sk-parallel-item:only-child::after {width: 0;}#sk-container-id-1 div.sk-dashed-wrapped {border: 1px dashed gray;margin: 0 0.4em 0.5em 0.4em;box-sizing: border-box;padding-bottom: 0.4em;background-color: white;}#sk-container-id-1 div.sk-label label {font-family: monospace;font-weight: bold;display: inline-block;line-height: 1.2em;}#sk-container-id-1 div.sk-label-container {text-align: center;}#sk-container-id-1 div.sk-container {/* jupyter's `normalize.less` sets `[hidden] { display: none; }` but bootstrap.min.css set `[hidden] { display: none !important; }` so we also need the `!important` here to be able to override the default hidden behavior on the sphinx rendered scikit-learn.org. See: https://github.com/scikit-learn/scikit-learn/issues/21755 */display: inline-block !important;position: relative;}#sk-container-id-1 div.sk-text-repr-fallback {display: none;}</style><div id=\"sk-container-id-1\" class=\"sk-top-container\"><div class=\"sk-text-repr-fallback\"><pre>LinearRegression()</pre><b>In a Jupyter environment, please rerun this cell to show the HTML representation or trust the notebook. <br />On GitHub, the HTML representation is unable to render, please try loading this page with nbviewer.org.</b></div><div class=\"sk-container\" hidden><div class=\"sk-item\"><div class=\"sk-estimator sk-toggleable\"><input class=\"sk-toggleable__control sk-hidden--visually\" id=\"sk-estimator-id-1\" type=\"checkbox\" checked><label for=\"sk-estimator-id-1\" class=\"sk-toggleable__label sk-toggleable__label-arrow\">LinearRegression</label><div class=\"sk-toggleable__content\"><pre>LinearRegression()</pre></div></div></div></div></div>"
      ],
      "text/plain": [
       "LinearRegression()"
      ]
     },
     "execution_count": 12,
     "metadata": {},
     "output_type": "execute_result"
    }
   ],
   "source": [
    "model = LinearRegression()\n",
    "#Fit the model to your data\n",
    "model.fit(x, y)"
   ]
  },
  {
   "cell_type": "code",
   "execution_count": 13,
   "id": "88a813e0-9bef-4125-80eb-f542f534c2c7",
   "metadata": {},
   "outputs": [],
   "source": [
    "a = model.coef_\n",
    "b = model.intercept_"
   ]
  },
  {
   "cell_type": "code",
   "execution_count": 14,
   "id": "38a40f7b-250f-4789-ad6f-078da78de6fe",
   "metadata": {},
   "outputs": [
    {
     "name": "stdout",
     "output_type": "stream",
     "text": [
      "Fitted Equation: y = [[0.3126102]] x + [0.06358322]\n",
      "R^2 Score: 0.7350596614087048\n",
      "MSE: 0.00017862863\n",
      "Root mean squared error:  0.013365203\n"
     ]
    }
   ],
   "source": [
    "# Predict y values using the fitted linear equation\n",
    "predicted_y_values = model.predict(x)\n",
    "\n",
    "# Calculate the coefficient of determination (R^2 score)\n",
    "r2 = r2_score(y, predicted_y_values)\n",
    "#std\n",
    "mse=mean_squared_error(y,predicted_y_values)\n",
    "rmse = np.sqrt(mean_squared_error(y, predicted_y_values))\n",
    "# Print the results\n",
    "print(\"Fitted Equation: y =\", a, \"x +\", b)\n",
    "print(\"R^2 Score:\", r2)\n",
    "print('MSE:',mse)\n",
    "print('Root mean squared error: ', rmse)"
   ]
  },
  {
   "cell_type": "code",
   "execution_count": 15,
   "id": "74cc217b-ce0d-4f44-a76a-6e51495f5e15",
   "metadata": {},
   "outputs": [
    {
     "data": {
      "text/plain": [
       "Text(0, 0.5, 'EnMAP')"
      ]
     },
     "execution_count": 15,
     "metadata": {},
     "output_type": "execute_result"
    },
    {
     "data": {
      "image/png": "[encoded data removed]",
      "text/plain": [
       "<Figure size 640x480 with 1 Axes>"
      ]
     },
     "metadata": {},
     "output_type": "display_data"
    }
   ],
   "source": [
    "plt.scatter(x,y, s=1, c='blue',marker=',', alpha=0.1)\n",
    "plt.plot([0,0.5],[0,0.5],color='k', ls='--', zorder=0)\n",
    "plt.plot(x, a*x+b, color='r', zorder=0)\n",
    "plt.xlabel('PRISMA')\n",
    "plt.ylabel('EnMAP') "
   ]
  },
  {
   "cell_type": "markdown",
   "id": "1a93fbdb-10b8-42ff-a256-fca1e083e77c",
   "metadata": {},
   "source": [
    "In the second part, we correlated the results of the band ratio analysis and then the results of the spectral abundance analysis among the four sensors. We followed the same process, comparing the calcite abundance derived from each sensor"
   ]
  }
 ],
 "metadata": {
  "kernelspec": {
   "display_name": "Python 3 (ipykernel)",
   "language": "python",
   "name": "python3"
  },
  "language_info": {
   "codemirror_mode": {
    "name": "ipython",
    "version": 3
   },
   "file_extension": ".py",
   "mimetype": "text/x-python",
   "name": "python",
   "nbconvert_exporter": "python",
   "pygments_lexer": "ipython3",
   "version": "3.10.11"
  }
 },
 "nbformat": 4,
 "nbformat_minor": 5
}
